{
 "cells": [
  {
   "cell_type": "markdown",
   "metadata": {},
   "source": [
    "# MLP vs CNN \n",
    "### by Pio Lauren T. Mendoza \n",
    "\n",
    "This notebook demonstrates the performance difference of a between MLP and CNN with respect to varying hyperparameters.\n",
    "Different MLP and CNN models will be used to classify the CIFAR10 dataset."
   ]
  },
  {
   "cell_type": "markdown",
   "metadata": {},
   "source": [
    "We must first import the necessary modules (i.e. maplotlib.pylot, numpy, and tensorflow)"
   ]
  },
  {
   "cell_type": "code",
   "execution_count": 1,
   "metadata": {},
   "outputs": [],
   "source": [
    "from __future__ import absolute_import\n",
    "from __future__ import division\n",
    "from __future__ import print_function\n",
    "\n",
    "import inspect\n",
    "import matplotlib.pyplot as plt\n",
    "import numpy as np\n",
    "import tensorflow as tf\n",
    "from tensorflow.keras.layers import Dense, Dropout, Input\n",
    "from tensorflow.keras.layers import Conv2D, MaxPooling2D, Flatten, BatchNormalization\n",
    "from tensorflow.keras.models import Model\n",
    "from tensorflow.keras.utils import to_categorical, plot_model\n",
    "from tensorflow.keras.datasets import cifar10"
   ]
  },
  {
   "cell_type": "markdown",
   "metadata": {},
   "source": [
    "The machine used for running this notebook has a good gpu. The list of of gpu of the machine can be check by running the method below."
   ]
  },
  {
   "cell_type": "code",
   "execution_count": 2,
   "metadata": {},
   "outputs": [
    {
     "name": "stdout",
     "output_type": "stream",
     "text": [
      "Number of GPUs: 1\n",
      "List of GPUs:\n",
      "\t-PhysicalDevice(name='/physical_device:GPU:0', device_type='GPU')\n"
     ]
    }
   ],
   "source": [
    "gpus = tf.config.list_physical_devices('GPU')\n",
    "print(f\"Number of GPUs: {len(gpus)}\")\n",
    "print(\"List of GPUs:\", *gpus, sep='\\n\\t-')"
   ]
  },
  {
   "cell_type": "markdown",
   "metadata": {},
   "source": [
    "## Loading CIFAR10 Dataset\n",
    "Data will be loaded from tf.keras.dataset"
   ]
  },
  {
   "cell_type": "code",
   "execution_count": 3,
   "metadata": {},
   "outputs": [
    {
     "name": "stdout",
     "output_type": "stream",
     "text": [
      "Number of samples for training:  50000\n",
      "Number of samples for testing:  10000\n",
      "Input image size:  (32, 32, 3)\n"
     ]
    }
   ],
   "source": [
    "(xTrain, yTrain), (xTest, yTest) = cifar10.load_data()\n",
    "print(\"Number of samples for training: \", xTrain.shape[0])\n",
    "print(\"Number of samples for testing: \", xTest.shape[0])\n",
    "print(\"Input image size: \", xTrain.shape[1:])"
   ]
  },
  {
   "cell_type": "markdown",
   "metadata": {},
   "source": [
    "## Data Preprocessing\n",
    "For the input data set the image the pixels will normalize (i.e. dividing each element by 255)"
   ]
  },
  {
   "cell_type": "code",
   "execution_count": 4,
   "metadata": {},
   "outputs": [],
   "source": [
    "xTrain, xTest = xTrain/255.0, xTest/255.0"
   ]
  },
  {
   "cell_type": "markdown",
   "metadata": {},
   "source": [
    "## Converting Labels into one-hot encoding\n",
    "Each interger label will conver to ins one hot encoding. \n",
    "(e.g. for labels from 0 to 3, 0 will converted to [1 0 0 0])"
   ]
  },
  {
   "cell_type": "code",
   "execution_count": 5,
   "metadata": {},
   "outputs": [],
   "source": [
    "yTrain, yTest = to_categorical(yTrain), to_categorical(yTest)"
   ]
  },
  {
   "cell_type": "markdown",
   "metadata": {},
   "source": [
    "Retyping the code for each model will be tiresome and it will also make this notebook bulky. Making a class that will give different model instances will be a better way.\n",
    "There will be two classes MLP and CNN each will have a its own method for creating different model, training, and printing the accuracy."
   ]
  },
  {
   "cell_type": "markdown",
   "metadata": {},
   "source": [
    "## MLP Class"
   ]
  },
  {
   "cell_type": "code",
   "execution_count": 6,
   "metadata": {
    "jupyter": {
     "source_hidden": true
    }
   },
   "outputs": [],
   "source": [
    "class MLP:\n",
    "    \"\"\"\n",
    "    batch_size\n",
    "    n_units\n",
    "    epochs\n",
    "    activation\n",
    "    nLabels\n",
    "    loss\n",
    "    inputSize # per element input size\n",
    "    \"\"\"    \n",
    "    def __init__(self, batch_size, n_units, epochs, activation, loss, xtrain, ytrain, xtest, ytest):\n",
    "        self.__batchSize = batch_size\n",
    "        self.__nUnits = n_units\n",
    "        self.__epochs = epochs\n",
    "        self.__activation = activation\n",
    "        self.__loss = loss\n",
    "        self.__nLabels = len(yTrain[0])\n",
    "        self.__size = xTrain.shape\n",
    "        self.__inputSize = self.__size[1] * self.__size[2] * self.__size[3]\n",
    "        self.__xTrain = np.reshape(xtrain, [-1, self.__inputSize])\n",
    "        self.__xTest = np.reshape(xtest, [-1, self.__inputSize])\n",
    "        self.__yTrain = ytrain\n",
    "        self.__yTest = ytest\n",
    "    \n",
    "    def modelL(self):\n",
    "        inputs = Input(shape=(self.__inputSize,))\n",
    "        x = Dense(self.__nUnits, activation = self.__activation)(inputs)\n",
    "        x = Dense(self.__nUnits, activation = self.__activation)(x)\n",
    "        outputs = Dense(self.__nLabels, activation = 'softmax')(x)\n",
    "        self.__model = Model(inputs=inputs, outputs=outputs, name = '3-Layer')\n",
    "    \n",
    "    def printModelSummary(self):\n",
    "        self.__model.summary()\n",
    "        \n",
    "    def printModelPlot(self):\n",
    "        plot_model(self.__model)\n",
    "        \n",
    "    def modelCompile(self):\n",
    "        self.__model.compile(loss=self.__loss,\n",
    "                             optimizer='sgd',\n",
    "                             metrics=['accuracy'])\n",
    "        \n",
    "    def modelTrain(self):\n",
    "        self.__history = self.__model.fit(self.__xTrain,\n",
    "                                          self.__yTrain, \n",
    "                                          validation_data=(self.__xTest, self.__yTest), \n",
    "                                          epochs = self.__epochs,\n",
    "                                          batch_size = self.__batchSize,\n",
    "                                          verbose = False)\n",
    "        \n",
    "    def modelEvaluate(self):\n",
    "        self.__lossValue, self.__acc = self.__model.evaluate(self.__xTest, \n",
    "                                                        self.__yTest, \n",
    "                                                        batch_size=self.__batchSize, \n",
    "                                                        verbose = False)\n",
    "        \n",
    "    def printAccuracyAndLoss(self):\n",
    "        print(\"\\nTest accuracy: {:.1f}%\".format((100.0 * self.__acc)))\n",
    "        print(\"Test loss: {:.1f}\".format(self.__lossValue))\n",
    "        \n",
    "    def plotCrossEntrophy(self):\n",
    "        plt.plot(self.__history.history['loss'], label='Train loss')\n",
    "        plt.plot(self.__history.history['val_loss'], label='Test loss')\n",
    "        #plt.plot(history.history['val_acc'], label='Test accuracy')\n",
    "        plt.title('Train and Test Loss')\n",
    "        plt.ylabel('Cross-Entropy')\n",
    "        plt.xlabel('Epochs')\n",
    "        plt.legend(loc=\"upper right\")\n",
    "        plt.show()\n",
    "        \n",
    "    def plotAccuracy(self):\n",
    "        plt.plot(self.__history.history['accuracy'], label='Train accuracy')\n",
    "        plt.plot(self.__history.history['val_accuracy'], label='Test accuracy')\n",
    "        plt.title('Train and Test Accuracy')\n",
    "        plt.ylabel('Accuracy')\n",
    "        plt.xlabel('Epochs')\n",
    "        plt.legend(loc=\"lower right\")\n",
    "        plt.show()    \n",
    "        \n",
    "    def run(self):\n",
    "        self.modelCompile()\n",
    "        self.modelTrain()\n",
    "        self.modelEvaluate()\n",
    "        print(self)\n",
    "        self.printAccuracyAndLoss()\n",
    "    \n",
    "    def __str__(self):\n",
    "        return inspect.cleandoc(f\"\"\"Model: {self.__model.name}\n",
    "        Batch Size: {self.__batchSize}\n",
    "        Hidden Units: {self.__nUnits}\n",
    "        Epochs: {self.__epochs}\n",
    "        Activation Function: {self.__activation}\n",
    "        Loss Function: {self.__loss}\"\"\")\n",
    "        \n",
    "        "
   ]
  },
  {
   "cell_type": "markdown",
   "metadata": {},
   "source": [
    "## Excuting different models for MLP\n",
    "The hyperparameters for each model will be varied and each model will analyzed based on its accuracy"
   ]
  },
  {
   "cell_type": "markdown",
   "metadata": {},
   "source": [
    "This could have been the easy way of finding the best model but impractical. I don't have the computing power.\n",
    "```python\n",
    "batchSizeList = [32, 64, 128, 256]\n",
    "nUnitsList = [64, 128, 256, 512]\n",
    "epochsList = [100, 1500, 1000]\n",
    "loss = \"categorical_crossentropy\"\n",
    "activation = \"relu\"\n",
    "hyperParametersList = [{\"batchSize\": batchSize, \"nUnits\": nUnits, \"epochs\": epochs} \n",
    "                   for batchSize in batchSizeList\n",
    "                   for nUnits in nUnitsList\n",
    "                   for epochs in epochsList]\n",
    "models = []\n",
    "for hyperParameters in hyperParametersList:\n",
    "    currModel = MLP(hyperParameters[\"batchSize\"], hyperParameters[\"nUnits\"], \n",
    "                    hyperParameters[\"epochs\"], activation, loss, xTrain, yTrain, xTest, yTest)\n",
    "    currModel.model3L()\n",
    "    currModel.run()\n",
    "    models.append(currModel)\n",
    "```"
   ]
  },
  {
   "cell_type": "code",
   "execution_count": 7,
   "metadata": {},
   "outputs": [
    {
     "name": "stdout",
     "output_type": "stream",
     "text": [
      "Model: \"3-Layer\"\n",
      "_________________________________________________________________\n",
      "Layer (type)                 Output Shape              Param #   \n",
      "=================================================================\n",
      "input_1 (InputLayer)         [(None, 3072)]            0         \n",
      "_________________________________________________________________\n",
      "dense (Dense)                (None, 32)                98336     \n",
      "_________________________________________________________________\n",
      "dense_1 (Dense)              (None, 32)                1056      \n",
      "_________________________________________________________________\n",
      "dense_2 (Dense)              (None, 10)                330       \n",
      "=================================================================\n",
      "Total params: 99,722\n",
      "Trainable params: 99,722\n",
      "Non-trainable params: 0\n",
      "_________________________________________________________________\n",
      "Model: 3-Layer\n",
      "Batch Size: 128\n",
      "Hidden Units: 32\n",
      "Epochs: 20\n",
      "Activation Function: relu\n",
      "Loss Function: categorical_crossentropy\n",
      "\n",
      "Test accuracy: 44.5%\n",
      "Test loss: 1.6\n"
     ]
    }
   ],
   "source": [
    "batch_size = 128\n",
    "n_units = 32\n",
    "epochs = 20\n",
    "loss = 'categorical_crossentropy'\n",
    "activation = 'relu'\n",
    "\n",
    "model1 = MLP(batch_size, n_units,\n",
    "                    epochs, activation, loss, xTrain, yTrain, xTest, yTest)\n",
    "model1.modelL()\n",
    "model1.printModelSummary()\n",
    "model1.run()"
   ]
  },
  {
   "cell_type": "code",
   "execution_count": 9,
   "metadata": {},
   "outputs": [
    {
     "name": "stdout",
     "output_type": "stream",
     "text": [
      "Model: \"3-Layer\"\n",
      "_________________________________________________________________\n",
      "Layer (type)                 Output Shape              Param #   \n",
      "=================================================================\n",
      "input_2 (InputLayer)         [(None, 3072)]            0         \n",
      "_________________________________________________________________\n",
      "dense_3 (Dense)              (None, 64)                196672    \n",
      "_________________________________________________________________\n",
      "dense_4 (Dense)              (None, 64)                4160      \n",
      "_________________________________________________________________\n",
      "dense_5 (Dense)              (None, 10)                650       \n",
      "=================================================================\n",
      "Total params: 201,482\n",
      "Trainable params: 201,482\n",
      "Non-trainable params: 0\n",
      "_________________________________________________________________\n",
      "Model: 3-Layer\n",
      "Batch Size: 128\n",
      "Hidden Units: 64\n",
      "Epochs: 20\n",
      "Activation Function: relu\n",
      "Loss Function: categorical_crossentropy\n",
      "\n",
      "Test accuracy: 43.7%\n",
      "Test loss: 1.6\n"
     ]
    }
   ],
   "source": [
    "batch_size = 128\n",
    "n_units = 64\n",
    "epochs = 20\n",
    "loss = 'categorical_crossentropy'\n",
    "activation = 'relu'\n",
    "\n",
    "model1 = MLP(batch_size, n_units,\n",
    "                    epochs, activation, loss, xTrain, yTrain, xTest, yTest)\n",
    "model1.modelL()\n",
    "model1.printModelSummary()\n",
    "model1.run()"
   ]
  },
  {
   "cell_type": "code",
   "execution_count": 10,
   "metadata": {},
   "outputs": [
    {
     "name": "stdout",
     "output_type": "stream",
     "text": [
      "Model: \"3-Layer\"\n",
      "_________________________________________________________________\n",
      "Layer (type)                 Output Shape              Param #   \n",
      "=================================================================\n",
      "input_3 (InputLayer)         [(None, 3072)]            0         \n",
      "_________________________________________________________________\n",
      "dense_6 (Dense)              (None, 128)               393344    \n",
      "_________________________________________________________________\n",
      "dense_7 (Dense)              (None, 128)               16512     \n",
      "_________________________________________________________________\n",
      "dense_8 (Dense)              (None, 10)                1290      \n",
      "=================================================================\n",
      "Total params: 411,146\n",
      "Trainable params: 411,146\n",
      "Non-trainable params: 0\n",
      "_________________________________________________________________\n",
      "Model: 3-Layer\n",
      "Batch Size: 128\n",
      "Hidden Units: 128\n",
      "Epochs: 20\n",
      "Activation Function: relu\n",
      "Loss Function: categorical_crossentropy\n",
      "\n",
      "Test accuracy: 48.0%\n",
      "Test loss: 1.5\n"
     ]
    }
   ],
   "source": [
    "batch_size = 128\n",
    "n_units = 128\n",
    "epochs = 20\n",
    "loss = 'categorical_crossentropy'\n",
    "activation = 'relu'\n",
    "\n",
    "model1 = MLP(batch_size, n_units,\n",
    "                    epochs, activation, loss, xTrain, yTrain, xTest, yTest)\n",
    "model1.modelL()\n",
    "model1.printModelSummary()\n",
    "model1.run()"
   ]
  },
  {
   "cell_type": "code",
   "execution_count": 16,
   "metadata": {},
   "outputs": [
    {
     "name": "stdout",
     "output_type": "stream",
     "text": [
      "Model: \"3-Layer\"\n",
      "_________________________________________________________________\n",
      "Layer (type)                 Output Shape              Param #   \n",
      "=================================================================\n",
      "input_8 (InputLayer)         [(None, 3072)]            0         \n",
      "_________________________________________________________________\n",
      "dense_13 (Dense)             (None, 128)               393344    \n",
      "_________________________________________________________________\n",
      "dense_14 (Dense)             (None, 128)               16512     \n",
      "_________________________________________________________________\n",
      "dense_15 (Dense)             (None, 10)                1290      \n",
      "=================================================================\n",
      "Total params: 411,146\n",
      "Trainable params: 411,146\n",
      "Non-trainable params: 0\n",
      "_________________________________________________________________\n",
      "Model: 3-Layer\n",
      "Batch Size: 64\n",
      "Hidden Units: 128\n",
      "Epochs: 20\n",
      "Activation Function: relu\n",
      "Loss Function: categorical_crossentropy\n",
      "\n",
      "Test accuracy: 44.2%\n",
      "Test loss: 1.6\n"
     ]
    }
   ],
   "source": [
    "batch_size = 64\n",
    "n_units = 128\n",
    "epochs = 20\n",
    "loss = 'categorical_crossentropy'\n",
    "activation = 'relu'\n",
    "\n",
    "model1 = MLP(batch_size, n_units,\n",
    "                    epochs, activation, loss, xTrain, yTrain, xTest, yTest)\n",
    "model1.modelL()\n",
    "model1.printModelSummary()\n",
    "model1.run()"
   ]
  },
  {
   "cell_type": "code",
   "execution_count": 19,
   "metadata": {},
   "outputs": [
    {
     "name": "stdout",
     "output_type": "stream",
     "text": [
      "Model: \"3-Layer\"\n",
      "_________________________________________________________________\n",
      "Layer (type)                 Output Shape              Param #   \n",
      "=================================================================\n",
      "input_11 (InputLayer)        [(None, 3072)]            0         \n",
      "_________________________________________________________________\n",
      "dense_18 (Dense)             (None, 128)               393344    \n",
      "_________________________________________________________________\n",
      "dense_19 (Dense)             (None, 128)               16512     \n",
      "_________________________________________________________________\n",
      "dense_20 (Dense)             (None, 10)                1290      \n",
      "=================================================================\n",
      "Total params: 411,146\n",
      "Trainable params: 411,146\n",
      "Non-trainable params: 0\n",
      "_________________________________________________________________\n",
      "Model: 3-Layer\n",
      "Batch Size: 256\n",
      "Hidden Units: 128\n",
      "Epochs: 20\n",
      "Activation Function: relu\n",
      "Loss Function: categorical_crossentropy\n",
      "\n",
      "Test accuracy: 42.3%\n",
      "Test loss: 1.6\n"
     ]
    }
   ],
   "source": [
    "batch_size = 256\n",
    "n_units = 128\n",
    "epochs = 20\n",
    "loss = 'categorical_crossentropy'\n",
    "activation = 'relu'\n",
    "\n",
    "model1 = MLP(batch_size, n_units,\n",
    "                    epochs, activation, loss, xTrain, yTrain, xTest, yTest)\n",
    "model1.modelL()\n",
    "model1.printModelSummary()\n",
    "model1.run()"
   ]
  },
  {
   "cell_type": "code",
   "execution_count": 20,
   "metadata": {},
   "outputs": [
    {
     "name": "stdout",
     "output_type": "stream",
     "text": [
      "Model: \"3-Layer\"\n",
      "_________________________________________________________________\n",
      "Layer (type)                 Output Shape              Param #   \n",
      "=================================================================\n",
      "input_12 (InputLayer)        [(None, 3072)]            0         \n",
      "_________________________________________________________________\n",
      "dense_21 (Dense)             (None, 128)               393344    \n",
      "_________________________________________________________________\n",
      "dense_22 (Dense)             (None, 128)               16512     \n",
      "_________________________________________________________________\n",
      "dense_23 (Dense)             (None, 10)                1290      \n",
      "=================================================================\n",
      "Total params: 411,146\n",
      "Trainable params: 411,146\n",
      "Non-trainable params: 0\n",
      "_________________________________________________________________\n",
      "Model: 3-Layer\n",
      "Batch Size: 128\n",
      "Hidden Units: 128\n",
      "Epochs: 50\n",
      "Activation Function: relu\n",
      "Loss Function: categorical_crossentropy\n",
      "\n",
      "Test accuracy: 51.4%\n",
      "Test loss: 1.4\n"
     ]
    },
    {
     "data": {
      "image/png": "[encoded data removed]",
      "text/plain": [
       "<Figure size 432x288 with 1 Axes>"
      ]
     },
     "metadata": {
      "needs_background": "light"
     },
     "output_type": "display_data"
    }
   ],
   "source": [
    "batch_size = 128\n",
    "n_units = 128\n",
    "epochs = 50\n",
    "loss = 'categorical_crossentropy'\n",
    "activation = 'relu'\n",
    "\n",
    "model1 = MLP(batch_size, n_units,\n",
    "                    epochs, activation, loss, xTrain, yTrain, xTest, yTest)\n",
    "model1.modelL()\n",
    "model1.printModelSummary()\n",
    "model1.run()\n",
    "model1.plotAccuracy()"
   ]
  },
  {
   "cell_type": "markdown",
   "metadata": {},
   "source": [
    "## CNN Class"
   ]
  },
  {
   "cell_type": "code",
   "execution_count": 11,
   "metadata": {
    "jupyter": {
     "source_hidden": true
    }
   },
   "outputs": [],
   "source": [
    "class CNN:\n",
    "    \"\"\"\n",
    "    batch_size\n",
    "    n_units\n",
    "    epochs\n",
    "    activation\n",
    "    nLabels\n",
    "    loss\n",
    "    inputSize # per element input size\n",
    "    \"\"\"    \n",
    "    def __init__(self, batch_size, kernel_size, n_filter, epochs, activation, loss, xtrain, ytrain, xtest, ytest):\n",
    "        self.__batchSize = batch_size\n",
    "        self.__kernel_size = kernel_size\n",
    "        self.__n_filter = n_filter\n",
    "        self.__epochs = epochs\n",
    "        self.__activation = activation\n",
    "        self.__loss = loss\n",
    "        self.__nLabels = len(yTrain[0])\n",
    "        self.__inputSize = xTrain.shape[1:]\n",
    "        self.__xTrain = xtrain\n",
    "        self.__xTest = xtest\n",
    "        self.__yTrain = ytrain\n",
    "        self.__yTest = ytest\n",
    "    \n",
    "    def modelL(self):\n",
    "        inputs = Input(shape=(self.__inputSize))\n",
    "        x = BatchNormalization()(inputs)\n",
    "        x = Conv2D(filters=self.__n_filter,\n",
    "           kernel_size=self.__kernel_size,\n",
    "           activation=self.__activation,\n",
    "           padding='same')(x)\n",
    "        x = MaxPooling2D()(x)\n",
    "        x = BatchNormalization()(x)\n",
    "        x = Conv2D(filters=self.__n_filter,\n",
    "                   kernel_size=self.__kernel_size,\n",
    "                   activation=self.__activation,\n",
    "                   padding='same')(x)\n",
    "        x = MaxPooling2D()(x)\n",
    "        x = BatchNormalization()(x)\n",
    "        x = Conv2D(filters=self.__n_filter,\n",
    "                   kernel_size=self.__kernel_size,\n",
    "                   activation=self.__activation,\n",
    "                   padding='same')(x)\n",
    "        x = Flatten()(x)\n",
    "        x = BatchNormalization()(x)\n",
    "        outputs = Dense(self.__nLabels, activation = 'softmax')(x)\n",
    "        self.__model = Model(inputs=inputs, outputs=outputs, name = '4-Layer')\n",
    "    \n",
    "    def printModelSummary(self):\n",
    "        self.__model.summary()\n",
    "        \n",
    "    def printModelPlot(self):\n",
    "        plot_model(self.__model)\n",
    "        \n",
    "    def modelCompile(self):\n",
    "        self.__model.compile(loss=self.__loss,\n",
    "                             optimizer='sgd',\n",
    "                             metrics=['accuracy'])\n",
    "        \n",
    "    def modelTrain(self):\n",
    "        self.__history = self.__model.fit(self.__xTrain,\n",
    "                                          self.__yTrain, \n",
    "                                          validation_data=(self.__xTest, self.__yTest), \n",
    "                                          epochs = self.__epochs,\n",
    "                                          batch_size = self.__batchSize,\n",
    "                                          verbose = False)\n",
    "        \n",
    "    def modelEvaluate(self):\n",
    "        self.__lossValue, self.__acc = self.__model.evaluate(self.__xTest, \n",
    "                                                        self.__yTest, \n",
    "                                                        batch_size=self.__batchSize, \n",
    "                                                        verbose = False)\n",
    "        \n",
    "    def printAccuracy(self):\n",
    "        print(\"\\nTest accuracy: {:.1f}%\".format((100.0 * self.__acc)))\n",
    "        \n",
    "    def plotCrossEntrophy(self):\n",
    "        plt.plot(self.__history.history['loss'], label='Train loss')\n",
    "        plt.plot(self.__history.history['val_loss'], label='Test loss')\n",
    "        #plt.plot(history.history['val_acc'], label='Test accuracy')\n",
    "        plt.title('Train and Test Loss')\n",
    "        plt.ylabel('Cross-Entropy')\n",
    "        plt.xlabel('Epochs')\n",
    "        plt.legend(loc=\"upper right\")\n",
    "        plt.show()\n",
    "        \n",
    "    def plotAccuracy(self):\n",
    "        plt.plot(self.__history.history['accuracy'], label='Train accuracy')\n",
    "        plt.plot(self.__history.history['val_accuracy'], label='Test accuracy')\n",
    "        plt.title('Train and Test Accuracy')\n",
    "        plt.ylabel('Accuracy')\n",
    "        plt.xlabel('Epochs')\n",
    "        plt.legend(loc=\"lower right\")\n",
    "        plt.show()    \n",
    "        \n",
    "    def run(self):\n",
    "        self.modelCompile()\n",
    "        self.modelTrain()\n",
    "        self.modelEvaluate()\n",
    "        print(self)\n",
    "        self.printAccuracy()\n",
    "    \n",
    "    def __str__(self):\n",
    "        return inspect.cleandoc(f\"\"\"Model: {self.__model.name}\n",
    "        Batch Size: {self.__batchSize}\n",
    "        Kernel Size: {self.__kernel_size}\n",
    "        Number of filters: {self.__n_filter}\n",
    "        Epochs: {self.__epochs}\n",
    "        Activation Function: {self.__activation}\n",
    "        Loss Function: {self.__loss}\"\"\")\n",
    "        \n",
    "        "
   ]
  },
  {
   "cell_type": "markdown",
   "metadata": {},
   "source": [
    "## Excuting different models for CNN\n",
    "The hyperparameters for each model will be varied and each model will analyzed based on its accuracy"
   ]
  },
  {
   "cell_type": "code",
   "execution_count": 15,
   "metadata": {},
   "outputs": [
    {
     "name": "stdout",
     "output_type": "stream",
     "text": [
      "Model: \"4-Layer\"\n",
      "_________________________________________________________________\n",
      "Layer (type)                 Output Shape              Param #   \n",
      "=================================================================\n",
      "input_7 (InputLayer)         [(None, 32, 32, 3)]       0         \n",
      "_________________________________________________________________\n",
      "batch_normalization_12 (Batc (None, 32, 32, 3)         12        \n",
      "_________________________________________________________________\n",
      "conv2d_9 (Conv2D)            (None, 32, 32, 32)        896       \n",
      "_________________________________________________________________\n",
      "max_pooling2d_6 (MaxPooling2 (None, 16, 16, 32)        0         \n",
      "_________________________________________________________________\n",
      "batch_normalization_13 (Batc (None, 16, 16, 32)        128       \n",
      "_________________________________________________________________\n",
      "conv2d_10 (Conv2D)           (None, 16, 16, 32)        9248      \n",
      "_________________________________________________________________\n",
      "max_pooling2d_7 (MaxPooling2 (None, 8, 8, 32)          0         \n",
      "_________________________________________________________________\n",
      "batch_normalization_14 (Batc (None, 8, 8, 32)          128       \n",
      "_________________________________________________________________\n",
      "conv2d_11 (Conv2D)           (None, 8, 8, 32)          9248      \n",
      "_________________________________________________________________\n",
      "flatten_3 (Flatten)          (None, 2048)              0         \n",
      "_________________________________________________________________\n",
      "batch_normalization_15 (Batc (None, 2048)              8192      \n",
      "_________________________________________________________________\n",
      "dense_12 (Dense)             (None, 10)                20490     \n",
      "=================================================================\n",
      "Total params: 48,342\n",
      "Trainable params: 44,112\n",
      "Non-trainable params: 4,230\n",
      "_________________________________________________________________\n",
      "Model: 4-Layer\n",
      "Batch Size: 128\n",
      "Kernel Size: 3\n",
      "Number of filters: 32\n",
      "Epochs: 20\n",
      "Activation Function: relu\n",
      "Loss Function: categorical_crossentropy\n",
      "\n",
      "Test accuracy: 71.9%\n"
     ]
    }
   ],
   "source": [
    "batch_size = 128\n",
    "kernel_size = 3\n",
    "filters = 32\n",
    "epochs = 20\n",
    "loss = 'categorical_crossentropy'\n",
    "activation = 'relu'\n",
    "\n",
    "model1 = CNN(batch_size, kernel_size, filters,\n",
    "                    epochs, activation, loss, xTrain, yTrain, xTest, yTest)\n",
    "model1.modelL()\n",
    "model1.printModelSummary()\n",
    "model1.run()"
   ]
  },
  {
   "cell_type": "code",
   "execution_count": 13,
   "metadata": {},
   "outputs": [
    {
     "name": "stdout",
     "output_type": "stream",
     "text": [
      "Model: \"4-Layer\"\n",
      "_________________________________________________________________\n",
      "Layer (type)                 Output Shape              Param #   \n",
      "=================================================================\n",
      "input_5 (InputLayer)         [(None, 32, 32, 3)]       0         \n",
      "_________________________________________________________________\n",
      "batch_normalization_4 (Batch (None, 32, 32, 3)         12        \n",
      "_________________________________________________________________\n",
      "conv2d_3 (Conv2D)            (None, 32, 32, 64)        1792      \n",
      "_________________________________________________________________\n",
      "max_pooling2d_2 (MaxPooling2 (None, 16, 16, 64)        0         \n",
      "_________________________________________________________________\n",
      "batch_normalization_5 (Batch (None, 16, 16, 64)        256       \n",
      "_________________________________________________________________\n",
      "conv2d_4 (Conv2D)            (None, 16, 16, 64)        36928     \n",
      "_________________________________________________________________\n",
      "max_pooling2d_3 (MaxPooling2 (None, 8, 8, 64)          0         \n",
      "_________________________________________________________________\n",
      "batch_normalization_6 (Batch (None, 8, 8, 64)          256       \n",
      "_________________________________________________________________\n",
      "conv2d_5 (Conv2D)            (None, 8, 8, 64)          36928     \n",
      "_________________________________________________________________\n",
      "flatten_1 (Flatten)          (None, 4096)              0         \n",
      "_________________________________________________________________\n",
      "batch_normalization_7 (Batch (None, 4096)              16384     \n",
      "_________________________________________________________________\n",
      "dense_10 (Dense)             (None, 10)                40970     \n",
      "=================================================================\n",
      "Total params: 133,526\n",
      "Trainable params: 125,072\n",
      "Non-trainable params: 8,454\n",
      "_________________________________________________________________\n",
      "Model: 4-Layer\n",
      "Batch Size: 128\n",
      "Kernel Size: 3\n",
      "Number of filters: 64\n",
      "Epochs: 20\n",
      "Activation Function: relu\n",
      "Loss Function: categorical_crossentropy\n",
      "\n",
      "Test accuracy: 72.9%\n"
     ]
    }
   ],
   "source": [
    "batch_size = 128\n",
    "kernel_size = 3\n",
    "filters = 64\n",
    "epochs = 20\n",
    "loss = 'categorical_crossentropy'\n",
    "activation = 'relu'\n",
    "\n",
    "model1 = CNN(batch_size, kernel_size, filters,\n",
    "                    epochs, activation, loss, xTrain, yTrain, xTest, yTest)\n",
    "model1.modelL()\n",
    "model1.printModelSummary()\n",
    "model1.run()"
   ]
  },
  {
   "cell_type": "code",
   "execution_count": 14,
   "metadata": {},
   "outputs": [
    {
     "name": "stdout",
     "output_type": "stream",
     "text": [
      "Model: \"4-Layer\"\n",
      "_________________________________________________________________\n",
      "Layer (type)                 Output Shape              Param #   \n",
      "=================================================================\n",
      "input_6 (InputLayer)         [(None, 32, 32, 3)]       0         \n",
      "_________________________________________________________________\n",
      "batch_normalization_8 (Batch (None, 32, 32, 3)         12        \n",
      "_________________________________________________________________\n",
      "conv2d_6 (Conv2D)            (None, 32, 32, 128)       3584      \n",
      "_________________________________________________________________\n",
      "max_pooling2d_4 (MaxPooling2 (None, 16, 16, 128)       0         \n",
      "_________________________________________________________________\n",
      "batch_normalization_9 (Batch (None, 16, 16, 128)       512       \n",
      "_________________________________________________________________\n",
      "conv2d_7 (Conv2D)            (None, 16, 16, 128)       147584    \n",
      "_________________________________________________________________\n",
      "max_pooling2d_5 (MaxPooling2 (None, 8, 8, 128)         0         \n",
      "_________________________________________________________________\n",
      "batch_normalization_10 (Batc (None, 8, 8, 128)         512       \n",
      "_________________________________________________________________\n",
      "conv2d_8 (Conv2D)            (None, 8, 8, 128)         147584    \n",
      "_________________________________________________________________\n",
      "flatten_2 (Flatten)          (None, 8192)              0         \n",
      "_________________________________________________________________\n",
      "batch_normalization_11 (Batc (None, 8192)              32768     \n",
      "_________________________________________________________________\n",
      "dense_11 (Dense)             (None, 10)                81930     \n",
      "=================================================================\n",
      "Total params: 414,486\n",
      "Trainable params: 397,584\n",
      "Non-trainable params: 16,902\n",
      "_________________________________________________________________\n",
      "Model: 4-Layer\n",
      "Batch Size: 128\n",
      "Kernel Size: 3\n",
      "Number of filters: 128\n",
      "Epochs: 20\n",
      "Activation Function: relu\n",
      "Loss Function: categorical_crossentropy\n",
      "\n",
      "Test accuracy: 73.3%\n"
     ]
    }
   ],
   "source": [
    "batch_size = 128\n",
    "kernel_size = 3\n",
    "filters = 128\n",
    "epochs = 20\n",
    "loss = 'categorical_crossentropy'\n",
    "activation = 'relu'\n",
    "\n",
    "model1 = CNN(batch_size, kernel_size, filters,\n",
    "                    epochs, activation, loss, xTrain, yTrain, xTest, yTest)\n",
    "model1.modelL()\n",
    "model1.printModelSummary()\n",
    "model1.run()"
   ]
  },
  {
   "cell_type": "code",
   "execution_count": 17,
   "metadata": {},
   "outputs": [
    {
     "name": "stdout",
     "output_type": "stream",
     "text": [
      "Model: \"4-Layer\"\n",
      "_________________________________________________________________\n",
      "Layer (type)                 Output Shape              Param #   \n",
      "=================================================================\n",
      "input_9 (InputLayer)         [(None, 32, 32, 3)]       0         \n",
      "_________________________________________________________________\n",
      "batch_normalization_16 (Batc (None, 32, 32, 3)         12        \n",
      "_________________________________________________________________\n",
      "conv2d_12 (Conv2D)           (None, 32, 32, 128)       3584      \n",
      "_________________________________________________________________\n",
      "max_pooling2d_8 (MaxPooling2 (None, 16, 16, 128)       0         \n",
      "_________________________________________________________________\n",
      "batch_normalization_17 (Batc (None, 16, 16, 128)       512       \n",
      "_________________________________________________________________\n",
      "conv2d_13 (Conv2D)           (None, 16, 16, 128)       147584    \n",
      "_________________________________________________________________\n",
      "max_pooling2d_9 (MaxPooling2 (None, 8, 8, 128)         0         \n",
      "_________________________________________________________________\n",
      "batch_normalization_18 (Batc (None, 8, 8, 128)         512       \n",
      "_________________________________________________________________\n",
      "conv2d_14 (Conv2D)           (None, 8, 8, 128)         147584    \n",
      "_________________________________________________________________\n",
      "flatten_4 (Flatten)          (None, 8192)              0         \n",
      "_________________________________________________________________\n",
      "batch_normalization_19 (Batc (None, 8192)              32768     \n",
      "_________________________________________________________________\n",
      "dense_16 (Dense)             (None, 10)                81930     \n",
      "=================================================================\n",
      "Total params: 414,486\n",
      "Trainable params: 397,584\n",
      "Non-trainable params: 16,902\n",
      "_________________________________________________________________\n",
      "Model: 4-Layer\n",
      "Batch Size: 64\n",
      "Kernel Size: 3\n",
      "Number of filters: 128\n",
      "Epochs: 20\n",
      "Activation Function: relu\n",
      "Loss Function: categorical_crossentropy\n",
      "\n",
      "Test accuracy: 72.2%\n"
     ]
    }
   ],
   "source": [
    "batch_size = 64\n",
    "kernel_size = 3\n",
    "filters = 128\n",
    "epochs = 20\n",
    "loss = 'categorical_crossentropy'\n",
    "activation = 'relu'\n",
    "\n",
    "model1 = CNN(batch_size, kernel_size, filters,\n",
    "                    epochs, activation, loss, xTrain, yTrain, xTest, yTest)\n",
    "model1.modelL()\n",
    "model1.printModelSummary()\n",
    "model1.run()"
   ]
  },
  {
   "cell_type": "code",
   "execution_count": 18,
   "metadata": {},
   "outputs": [
    {
     "name": "stdout",
     "output_type": "stream",
     "text": [
      "Model: \"4-Layer\"\n",
      "_________________________________________________________________\n",
      "Layer (type)                 Output Shape              Param #   \n",
      "=================================================================\n",
      "input_10 (InputLayer)        [(None, 32, 32, 3)]       0         \n",
      "_________________________________________________________________\n",
      "batch_normalization_20 (Batc (None, 32, 32, 3)         12        \n",
      "_________________________________________________________________\n",
      "conv2d_15 (Conv2D)           (None, 32, 32, 128)       3584      \n",
      "_________________________________________________________________\n",
      "max_pooling2d_10 (MaxPooling (None, 16, 16, 128)       0         \n",
      "_________________________________________________________________\n",
      "batch_normalization_21 (Batc (None, 16, 16, 128)       512       \n",
      "_________________________________________________________________\n",
      "conv2d_16 (Conv2D)           (None, 16, 16, 128)       147584    \n",
      "_________________________________________________________________\n",
      "max_pooling2d_11 (MaxPooling (None, 8, 8, 128)         0         \n",
      "_________________________________________________________________\n",
      "batch_normalization_22 (Batc (None, 8, 8, 128)         512       \n",
      "_________________________________________________________________\n",
      "conv2d_17 (Conv2D)           (None, 8, 8, 128)         147584    \n",
      "_________________________________________________________________\n",
      "flatten_5 (Flatten)          (None, 8192)              0         \n",
      "_________________________________________________________________\n",
      "batch_normalization_23 (Batc (None, 8192)              32768     \n",
      "_________________________________________________________________\n",
      "dense_17 (Dense)             (None, 10)                81930     \n",
      "=================================================================\n",
      "Total params: 414,486\n",
      "Trainable params: 397,584\n",
      "Non-trainable params: 16,902\n",
      "_________________________________________________________________\n",
      "Model: 4-Layer\n",
      "Batch Size: 256\n",
      "Kernel Size: 3\n",
      "Number of filters: 128\n",
      "Epochs: 20\n",
      "Activation Function: relu\n",
      "Loss Function: categorical_crossentropy\n",
      "\n",
      "Test accuracy: 72.0%\n"
     ]
    }
   ],
   "source": [
    "batch_size = 256\n",
    "kernel_size = 3\n",
    "filters = 128\n",
    "epochs = 20\n",
    "loss = 'categorical_crossentropy'\n",
    "activation = 'relu'\n",
    "\n",
    "model1 = CNN(batch_size, kernel_size, filters,\n",
    "                    epochs, activation, loss, xTrain, yTrain, xTest, yTest)\n",
    "model1.modelL()\n",
    "model1.printModelSummary()\n",
    "model1.run()"
   ]
  },
  {
   "cell_type": "code",
   "execution_count": 21,
   "metadata": {},
   "outputs": [
    {
     "name": "stdout",
     "output_type": "stream",
     "text": [
      "Model: \"4-Layer\"\n",
      "_________________________________________________________________\n",
      "Layer (type)                 Output Shape              Param #   \n",
      "=================================================================\n",
      "input_13 (InputLayer)        [(None, 32, 32, 3)]       0         \n",
      "_________________________________________________________________\n",
      "batch_normalization_24 (Batc (None, 32, 32, 3)         12        \n",
      "_________________________________________________________________\n",
      "conv2d_18 (Conv2D)           (None, 32, 32, 128)       9728      \n",
      "_________________________________________________________________\n",
      "max_pooling2d_12 (MaxPooling (None, 16, 16, 128)       0         \n",
      "_________________________________________________________________\n",
      "batch_normalization_25 (Batc (None, 16, 16, 128)       512       \n",
      "_________________________________________________________________\n",
      "conv2d_19 (Conv2D)           (None, 16, 16, 128)       409728    \n",
      "_________________________________________________________________\n",
      "max_pooling2d_13 (MaxPooling (None, 8, 8, 128)         0         \n",
      "_________________________________________________________________\n",
      "batch_normalization_26 (Batc (None, 8, 8, 128)         512       \n",
      "_________________________________________________________________\n",
      "conv2d_20 (Conv2D)           (None, 8, 8, 128)         409728    \n",
      "_________________________________________________________________\n",
      "flatten_6 (Flatten)          (None, 8192)              0         \n",
      "_________________________________________________________________\n",
      "batch_normalization_27 (Batc (None, 8192)              32768     \n",
      "_________________________________________________________________\n",
      "dense_24 (Dense)             (None, 10)                81930     \n",
      "=================================================================\n",
      "Total params: 944,918\n",
      "Trainable params: 928,016\n",
      "Non-trainable params: 16,902\n",
      "_________________________________________________________________\n",
      "Model: 4-Layer\n",
      "Batch Size: 128\n",
      "Kernel Size: 5\n",
      "Number of filters: 128\n",
      "Epochs: 20\n",
      "Activation Function: relu\n",
      "Loss Function: categorical_crossentropy\n",
      "\n",
      "Test accuracy: 75.3%\n"
     ]
    }
   ],
   "source": [
    "batch_size = 128\n",
    "kernel_size = 5\n",
    "filters = 128\n",
    "epochs = 20\n",
    "loss = 'categorical_crossentropy'\n",
    "activation = 'relu'\n",
    "\n",
    "model1 = CNN(batch_size, kernel_size, filters,\n",
    "                    epochs, activation, loss, xTrain, yTrain, xTest, yTest)\n",
    "model1.modelL()\n",
    "model1.printModelSummary()\n",
    "model1.run()"
   ]
  },
  {
   "cell_type": "code",
   "execution_count": 23,
   "metadata": {},
   "outputs": [
    {
     "name": "stdout",
     "output_type": "stream",
     "text": [
      "Model: \"4-Layer\"\n",
      "_________________________________________________________________\n",
      "Layer (type)                 Output Shape              Param #   \n",
      "=================================================================\n",
      "input_15 (InputLayer)        [(None, 32, 32, 3)]       0         \n",
      "_________________________________________________________________\n",
      "batch_normalization_32 (Batc (None, 32, 32, 3)         12        \n",
      "_________________________________________________________________\n",
      "conv2d_24 (Conv2D)           (None, 32, 32, 128)       18944     \n",
      "_________________________________________________________________\n",
      "max_pooling2d_16 (MaxPooling (None, 16, 16, 128)       0         \n",
      "_________________________________________________________________\n",
      "batch_normalization_33 (Batc (None, 16, 16, 128)       512       \n",
      "_________________________________________________________________\n",
      "conv2d_25 (Conv2D)           (None, 16, 16, 128)       802944    \n",
      "_________________________________________________________________\n",
      "max_pooling2d_17 (MaxPooling (None, 8, 8, 128)         0         \n",
      "_________________________________________________________________\n",
      "batch_normalization_34 (Batc (None, 8, 8, 128)         512       \n",
      "_________________________________________________________________\n",
      "conv2d_26 (Conv2D)           (None, 8, 8, 128)         802944    \n",
      "_________________________________________________________________\n",
      "flatten_8 (Flatten)          (None, 8192)              0         \n",
      "_________________________________________________________________\n",
      "batch_normalization_35 (Batc (None, 8192)              32768     \n",
      "_________________________________________________________________\n",
      "dense_26 (Dense)             (None, 10)                81930     \n",
      "=================================================================\n",
      "Total params: 1,740,566\n",
      "Trainable params: 1,723,664\n",
      "Non-trainable params: 16,902\n",
      "_________________________________________________________________\n",
      "Model: 4-Layer\n",
      "Batch Size: 128\n",
      "Kernel Size: 7\n",
      "Number of filters: 128\n",
      "Epochs: 30\n",
      "Activation Function: relu\n",
      "Loss Function: categorical_crossentropy\n",
      "\n",
      "Test accuracy: 75.1%\n"
     ]
    }
   ],
   "source": [
    "batch_size = 128\n",
    "kernel_size = 7\n",
    "filters = 128\n",
    "epochs = 20\n",
    "loss = 'categorical_crossentropy'\n",
    "activation = 'relu'\n",
    "\n",
    "model1 = CNN(batch_size, kernel_size, filters,\n",
    "                    epochs, activation, loss, xTrain, yTrain, xTest, yTest)\n",
    "model1.modelL()\n",
    "model1.printModelSummary()\n",
    "model1.run()"
   ]
  },
  {
   "cell_type": "code",
   "execution_count": 24,
   "metadata": {},
   "outputs": [
    {
     "name": "stdout",
     "output_type": "stream",
     "text": [
      "Model: \"4-Layer\"\n",
      "_________________________________________________________________\n",
      "Layer (type)                 Output Shape              Param #   \n",
      "=================================================================\n",
      "input_16 (InputLayer)        [(None, 32, 32, 3)]       0         \n",
      "_________________________________________________________________\n",
      "batch_normalization_36 (Batc (None, 32, 32, 3)         12        \n",
      "_________________________________________________________________\n",
      "conv2d_27 (Conv2D)           (None, 32, 32, 128)       9728      \n",
      "_________________________________________________________________\n",
      "max_pooling2d_18 (MaxPooling (None, 16, 16, 128)       0         \n",
      "_________________________________________________________________\n",
      "batch_normalization_37 (Batc (None, 16, 16, 128)       512       \n",
      "_________________________________________________________________\n",
      "conv2d_28 (Conv2D)           (None, 16, 16, 128)       409728    \n",
      "_________________________________________________________________\n",
      "max_pooling2d_19 (MaxPooling (None, 8, 8, 128)         0         \n",
      "_________________________________________________________________\n",
      "batch_normalization_38 (Batc (None, 8, 8, 128)         512       \n",
      "_________________________________________________________________\n",
      "conv2d_29 (Conv2D)           (None, 8, 8, 128)         409728    \n",
      "_________________________________________________________________\n",
      "flatten_9 (Flatten)          (None, 8192)              0         \n",
      "_________________________________________________________________\n",
      "batch_normalization_39 (Batc (None, 8192)              32768     \n",
      "_________________________________________________________________\n",
      "dense_27 (Dense)             (None, 10)                81930     \n",
      "=================================================================\n",
      "Total params: 944,918\n",
      "Trainable params: 928,016\n",
      "Non-trainable params: 16,902\n",
      "_________________________________________________________________\n",
      "Model: 4-Layer\n",
      "Batch Size: 128\n",
      "Kernel Size: 5\n",
      "Number of filters: 128\n",
      "Epochs: 30\n",
      "Activation Function: relu\n",
      "Loss Function: categorical_crossentropy\n",
      "\n",
      "Test accuracy: 75.7%\n"
     ]
    }
   ],
   "source": [
    "batch_size = 128\n",
    "kernel_size = 5\n",
    "filters = 128\n",
    "epochs = 30\n",
    "loss = 'categorical_crossentropy'\n",
    "activation = 'relu'\n",
    "\n",
    "model1 = CNN(batch_size, kernel_size, filters,\n",
    "                    epochs, activation, loss, xTrain, yTrain, xTest, yTest)\n",
    "model1.modelL()\n",
    "model1.printModelSummary()\n",
    "model1.run()"
   ]
  },
  {
   "cell_type": "code",
   "execution_count": 25,
   "metadata": {},
   "outputs": [
    {
     "data": {
      "image/png": "[encoded data removed]",
      "text/plain": [
       "<Figure size 432x288 with 1 Axes>"
      ]
     },
     "metadata": {
      "needs_background": "light"
     },
     "output_type": "display_data"
    }
   ],
   "source": [
    "model1.plotAccuracy()"
   ]
  },
  {
   "cell_type": "markdown",
   "metadata": {},
   "source": [
    "## Conclusion\n",
    "I tried different ways to improve my models. Increasing the hidden units for the MLP help bringing the accuracy higher. The same with the numbers of filters the accuracy raises as the number of filter raises. I increase these hyper parameters by twice as much and the accuracy gain is around 1% to 2%.<br/>\n",
    "After that I picked the model with the best accuracy, then I varied the batch size. I discovered that when varied, increase or decrease, my batch size the performance both decreased compared to the benchmark. Batch size of 128 was the sweet spot for me.<br/>\n",
    "At around 30 epochs my models started to plateau for both CNN and MLP.<br/>\n",
    "Increasing the kernel size also increases the performance of the CNN models.<br/>\n",
    "My Best MLP is:<br/>\n",
    "    -Model: 3-Layer<br/>\n",
    "    -Batch Size: 128<br/>\n",
    "    -Hidden Units: 128<br/>\n",
    "    -Epochs: 50<br/>\n",
    "    -Activation Function: relu<br/>\n",
    "    -Loss Function: categorical_crossentropy<br/>\n",
    "    -Test accuracy: 51.4%<br/>\n",
    "My best CNN is:<br/>\n",
    "    -Model: 4-Layer<br/>\n",
    "    -Batch Size: 128<br/>\n",
    "    -Kernel Size: 5<br/>\n",
    "    -Number of filters: 128<br/>\n",
    "    -Epochs: 30<br/>\n",
    "    -Activation Function: relu<br/>\n",
    "    -Loss Function: categorical_crossentropy<br/>\n",
    "    -Test accuracy: 75.7%<br/>"
   ]
  }
 ],
 "metadata": {
  "kernelspec": {
   "display_name": "Python (COE197Z)",
   "language": "python",
   "name": "coe197z"
  },
  "language_info": {
   "codemirror_mode": {
    "name": "ipython",
    "version": 3
   },
   "file_extension": ".py",
   "mimetype": "text/x-python",
   "name": "python",
   "nbconvert_exporter": "python",
   "pygments_lexer": "ipython3",
   "version": "3.7.9"
  }
 },
 "nbformat": 4,
 "nbformat_minor": 4
}
