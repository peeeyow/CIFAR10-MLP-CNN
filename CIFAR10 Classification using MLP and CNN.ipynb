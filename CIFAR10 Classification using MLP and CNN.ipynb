{
 "cells": [
  {
   "cell_type": "markdown",
   "metadata": {},
   "source": [
    "# MLP vs CNN \n",
    "### by Pio Lauren T. Mendoza \n",
    "\n",
    "This notebook demonstrates the performance difference of a between MLP and CNN with respect to varying hyperparameters.\n",
    "Different MLP and CNN models will be used to classify the CIFAR10 dataset."
   ]
  },
  {
   "cell_type": "markdown",
   "metadata": {},
   "source": [
    "We must first import the necessary modules (i.e. maplotlib.pylot, numpy, and tensorflow)"
   ]
  },
  {
   "cell_type": "code",
   "execution_count": 1,
   "metadata": {},
   "outputs": [],
   "source": [
    "from __future__ import absolute_import\n",
    "from __future__ import division\n",
    "from __future__ import print_function\n",
    "\n",
    "import inspect\n",
    "import matplotlib.pyplot as plt\n",
    "import numpy as np\n",
    "import tensorflow as tf\n",
    "from tensorflow.keras.layers import Dense, Dropout, Input\n",
    "from tensorflow.keras.layers import Conv2D, MaxPooling2D, Flatten\n",
    "from tensorflow.keras.models import Model\n",
    "from tensorflow.keras.utils import to_categorical, plot_model\n",
    "from tensorflow.keras.datasets import cifar10"
   ]
  },
  {
   "cell_type": "markdown",
   "metadata": {},
   "source": [
    "The machine used for running this notebook has a good gpu. The list of of gpu of the machine can be check by running the method below."
   ]
  },
  {
   "cell_type": "code",
   "execution_count": 2,
   "metadata": {},
   "outputs": [
    {
     "name": "stdout",
     "output_type": "stream",
     "text": [
      "Number of GPUs: 1\n",
      "List of GPUs:\n",
      "\t-PhysicalDevice(name='/physical_device:GPU:0', device_type='GPU')\n"
     ]
    }
   ],
   "source": [
    "gpus = tf.config.list_physical_devices('GPU')\n",
    "print(f\"Number of GPUs: {len(gpus)}\")\n",
    "print(\"List of GPUs:\", *gpus, sep='\\n\\t-')"
   ]
  },
  {
   "cell_type": "markdown",
   "metadata": {},
   "source": [
    "## Loading CIFAR10 Dataset\n",
    "Data will be loaded from tf.keras.dataset"
   ]
  },
  {
   "cell_type": "code",
   "execution_count": 3,
   "metadata": {},
   "outputs": [
    {
     "name": "stdout",
     "output_type": "stream",
     "text": [
      "Number of samples for training:  50000\n",
      "Number of samples for testing:  10000\n",
      "Input image size:  (32, 32, 3)\n"
     ]
    }
   ],
   "source": [
    "(xTrain, yTrain), (xTest, yTest) = cifar10.load_data()\n",
    "print(\"Number of samples for training: \", xTrain.shape[0])\n",
    "print(\"Number of samples for testing: \", xTest.shape[0])\n",
    "print(\"Input image size: \", xTrain.shape[1:])"
   ]
  },
  {
   "cell_type": "markdown",
   "metadata": {},
   "source": [
    "## Data Preprocessing\n",
    "For the input data set the image the pixels will normalize (i.e. dividing each element by 255)"
   ]
  },
  {
   "cell_type": "code",
   "execution_count": 4,
   "metadata": {},
   "outputs": [],
   "source": [
    "xTrain, xTest = xTrain/255.0, xTest/255.0"
   ]
  },
  {
   "cell_type": "markdown",
   "metadata": {},
   "source": [
    "## Converting Labels into one-hot encoding\n",
    "Each interger label will conver to ins one hot encoding. \n",
    "(e.g. for labels from 0 to 3, 0 will converted to [1 0 0 0])"
   ]
  },
  {
   "cell_type": "code",
   "execution_count": 5,
   "metadata": {},
   "outputs": [],
   "source": [
    "yTrain, yTest = to_categorical(yTrain), to_categorical(yTest)"
   ]
  },
  {
   "cell_type": "markdown",
   "metadata": {},
   "source": [
    "Retyping the code for each model will be tiresome and it will also make this notebook bulky. Making a class that will give different model instances will be a better way.\n",
    "There will be two classes MLP and CNN each will have a its own method for creating different model, training, and printing the accuracy."
   ]
  },
  {
   "cell_type": "markdown",
   "metadata": {},
   "source": [
    "## MLP Class"
   ]
  },
  {
   "cell_type": "code",
   "execution_count": 6,
   "metadata": {},
   "outputs": [],
   "source": [
    "class MLP:\n",
    "    \"\"\"\n",
    "    batch_size\n",
    "    n_units\n",
    "    epochs\n",
    "    activation\n",
    "    nLabels\n",
    "    loss\n",
    "    inputSize # per element input size\n",
    "    \"\"\"    \n",
    "    def __init__(self, batch_size, n_units, epochs, activation, loss, xtrain, ytrain, xtest, ytest):\n",
    "        self.__batchSize = batch_size\n",
    "        self.__nUnits = n_units\n",
    "        self.__epochs = epochs\n",
    "        self.__activation = activation\n",
    "        self.__loss = loss\n",
    "        self.__nLabels = len(yTrain[0])\n",
    "        self.__size = xTrain.shape\n",
    "        self.__inputSize = self.__size[1] * self.__size[2] * self.__size[3]\n",
    "        self.__xTrain = np.reshape(xtrain, [-1, self.__inputSize])\n",
    "        self.__xTest = np.reshape(xtest, [-1, self.__inputSize])\n",
    "        self.__yTrain = ytrain\n",
    "        self.__yTest = ytest\n",
    "    \n",
    "    def model3L(self):\n",
    "        inputs = Input(shape=(self.__inputSize,))\n",
    "        x = Dense(self.__nUnits, activation = self.__activation)(inputs)\n",
    "        x = Dense(self.__nUnits, activation = self.__activation)(x)\n",
    "        outputs = Dense(self.__nLabels, activation = 'softmax')(x)\n",
    "        self.__model = Model(inputs=inputs, outputs=outputs, name = '3-Layer')\n",
    "    \n",
    "    def printModelSummary(self):\n",
    "        self.__model.summary()\n",
    "        \n",
    "    def printModelPlot(self):\n",
    "        plot_model(self.__model)\n",
    "        \n",
    "    def modelCompile(self):\n",
    "        self.__model.compile(loss=self.__loss,\n",
    "                             optimizer='sgd',\n",
    "                             metrics=['accuracy'])\n",
    "        \n",
    "    def modelTrain(self):\n",
    "        self.__history = self.__model.fit(self.__xTrain,\n",
    "                                          self.__yTrain, \n",
    "                                          validation_data=(self.__xTest, self.__yTest), \n",
    "                                          epochs = self.__epochs,\n",
    "                                          batch_size = self.__batchSize,\n",
    "                                          verbose = True)\n",
    "        \n",
    "    def modelEvaluate(self):\n",
    "        self.__lossValue, self.__acc = self.__model.evaluate(self.__xTest, \n",
    "                                                        self.__yTest, \n",
    "                                                        batch_size=self.__batchSize, \n",
    "                                                        verbose = False)\n",
    "        \n",
    "    def printAccuracyAndLoss(self):\n",
    "        print(\"\\nTest accuracy: {:.1f}%\".format((100.0 * self.__acc)))\n",
    "        print(\"Test loss: {:.1f}\".format(self.__lossValue))\n",
    "        \n",
    "    def plotCrossEntrophy(self):\n",
    "        plt.plot(self.__history.history['loss'], label='Train loss')\n",
    "        plt.plot(self.__history.history['val_loss'], label='Test loss')\n",
    "        #plt.plot(history.history['val_acc'], label='Test accuracy')\n",
    "        plt.title('Train and Test Loss')\n",
    "        plt.ylabel('Cross-Entropy')\n",
    "        plt.xlabel('Epochs')\n",
    "        plt.legend(loc=\"upper right\")\n",
    "        plt.show()\n",
    "        \n",
    "    def plotAccuracy(self):\n",
    "        plt.plot(self.__history.history['accuracy'], label='Train accuracy')\n",
    "        plt.plot(self.__history.history['val_accuracy'], label='Test accuracy')\n",
    "        plt.title('Train and Test Accuracy')\n",
    "        plt.ylabel('Accuracy')\n",
    "        plt.xlabel('Epochs')\n",
    "        plt.legend(loc=\"lower right\")\n",
    "        plt.show()    \n",
    "        \n",
    "    def run(self):\n",
    "        self.modelCompile()\n",
    "        self.modelTrain()\n",
    "        self.modelEvaluate()\n",
    "        print(self)\n",
    "        self.printAccuracyAndLoss()\n",
    "    \n",
    "    def __str__(self):\n",
    "        return inspect.cleandoc(f\"\"\"Model: {self.__model.name}\n",
    "        Batch Size: {self.__batchSize}\n",
    "        Hidden Units: {self.__nUnits}\n",
    "        Epochs: {self.__epochs}\n",
    "        Activation Function: {self.__activation}\n",
    "        Loss Function: {self.__loss}\"\"\")\n",
    "        \n",
    "        "
   ]
  },
  {
   "cell_type": "markdown",
   "metadata": {},
   "source": [
    "## Excuting different models for MLP\n",
    "The hyperparameters for each model will be varied and each model will analyzed based on its accuracy"
   ]
  },
  {
   "cell_type": "markdown",
   "metadata": {},
   "source": [
    "This could have been the easy way of finding the best model but impractical. I don't have the computing power.\n",
    "```python\n",
    "batchSizeList = [32, 64, 128, 256]\n",
    "nUnitsList = [64, 128, 256, 512]\n",
    "epochsList = [100, 1500, 1000]\n",
    "loss = \"categorical_crossentropy\"\n",
    "activation = \"relu\"\n",
    "hyperParametersList = [{\"batchSize\": batchSize, \"nUnits\": nUnits, \"epochs\": epochs} \n",
    "                   for batchSize in batchSizeList\n",
    "                   for nUnits in nUnitsList\n",
    "                   for epochs in epochsList]\n",
    "models = []\n",
    "for hyperParameters in hyperParametersList:\n",
    "    currModel = MLP(hyperParameters[\"batchSize\"], hyperParameters[\"nUnits\"], \n",
    "                    hyperParameters[\"epochs\"], activation, loss, xTrain, yTrain, xTest, yTest)\n",
    "    currModel.model3L()\n",
    "    currModel.run()\n",
    "    models.append(currModel)\n",
    "```"
   ]
  },
  {
   "cell_type": "markdown",
   "metadata": {},
   "source": [
    "## CNN Class"
   ]
  },
  {
   "cell_type": "code",
   "execution_count": 18,
   "metadata": {},
   "outputs": [],
   "source": [
    "class CNN:\n",
    "    \"\"\"\n",
    "    batch_size\n",
    "    n_units\n",
    "    epochs\n",
    "    activation\n",
    "    nLabels\n",
    "    loss\n",
    "    inputSize # per element input size\n",
    "    \"\"\"    \n",
    "    def __init__(self, batch_size, kernel_size, n_filter, epochs, activation, loss, xtrain, ytrain, xtest, ytest):\n",
    "        self.__batchSize = batch_size\n",
    "        self.__kernel_size = kernel_size\n",
    "        self.__n_filter = n_filter\n",
    "        self.__epochs = epochs\n",
    "        self.__activation = activation\n",
    "        self.__loss = loss\n",
    "        self.__nLabels = len(yTrain[0])\n",
    "        self.__inputSize = xTrain.shape[1:]\n",
    "        self.__xTrain = xtrain\n",
    "        self.__xTest = xtest\n",
    "        self.__yTrain = ytrain\n",
    "        self.__yTest = ytest\n",
    "    \n",
    "    def model5L(self):\n",
    "        inputs = Input(shape=(self.__inputSize))\n",
    "        x = Conv2D(filters=self.__n_filter,\n",
    "           kernel_size=self.__kernel_size,\n",
    "           activation=self.__activation,\n",
    "           padding='same')(inputs)\n",
    "        x = MaxPooling2D()(x)\n",
    "        x = Conv2D(filters=self.__n_filter,\n",
    "                   kernel_size=self.__kernel_size,\n",
    "                   activation=self.__activation,\n",
    "                   padding='same')(x)\n",
    "        x = MaxPooling2D()(x)\n",
    "        x = Conv2D(filters=self.__n_filter,\n",
    "                   kernel_size=self.__kernel_size,\n",
    "                   activation=self.__activation,\n",
    "                   padding='same')(x)\n",
    "        x = Flatten()(x)\n",
    "        outputs = Dense(self.__nLabels, activation = 'softmax')(x)\n",
    "        self.__model = Model(inputs=inputs, outputs=outputs, name = '4-Layer')\n",
    "    \n",
    "    def printModelSummary(self):\n",
    "        self.__model.summary()\n",
    "        \n",
    "    def printModelPlot(self):\n",
    "        plot_model(self.__model)\n",
    "        \n",
    "    def modelCompile(self):\n",
    "        self.__model.compile(loss=self.__loss,\n",
    "                             optimizer='sgd',\n",
    "                             metrics=['accuracy'])\n",
    "        \n",
    "    def modelTrain(self):\n",
    "        self.__history = self.__model.fit(self.__xTrain,\n",
    "                                          self.__yTrain, \n",
    "                                          validation_data=(self.__xTest, self.__yTest), \n",
    "                                          epochs = self.__epochs,\n",
    "                                          batch_size = self.__batchSize,\n",
    "                                          verbose = True)\n",
    "        \n",
    "    def modelEvaluate(self):\n",
    "        self.__lossValue, self.__acc = self.__model.evaluate(self.__xTest, \n",
    "                                                        self.__yTest, \n",
    "                                                        batch_size=self.__batchSize, \n",
    "                                                        verbose = False)\n",
    "        \n",
    "    def printAccuracy(self):\n",
    "        print(\"\\nTest accuracy: {:.1f}%\".format((100.0 * self.__acc)))\n",
    "        \n",
    "    def plotCrossEntrophy(self):\n",
    "        plt.plot(self.__history.history['loss'], label='Train loss')\n",
    "        plt.plot(self.__history.history['val_loss'], label='Test loss')\n",
    "        #plt.plot(history.history['val_acc'], label='Test accuracy')\n",
    "        plt.title('Train and Test Loss')\n",
    "        plt.ylabel('Cross-Entropy')\n",
    "        plt.xlabel('Epochs')\n",
    "        plt.legend(loc=\"upper right\")\n",
    "        plt.show()\n",
    "        \n",
    "    def plotAccuracy(self):\n",
    "        plt.plot(self.__history.history['accuracy'], label='Train accuracy')\n",
    "        plt.plot(self.__history.history['val_accuracy'], label='Test accuracy')\n",
    "        plt.title('Train and Test Accuracy')\n",
    "        plt.ylabel('Accuracy')\n",
    "        plt.xlabel('Epochs')\n",
    "        plt.legend(loc=\"lower right\")\n",
    "        plt.show()    \n",
    "        \n",
    "    def run(self):\n",
    "        self.modelCompile()\n",
    "        self.modelTrain()\n",
    "        self.modelEvaluate()\n",
    "        print(self)\n",
    "        self.printAccuracy()\n",
    "    \n",
    "    def __str__(self):\n",
    "        return inspect.cleandoc(f\"\"\"Model: {self.__model.name}\n",
    "        Batch Size: {self.__batchSize}\n",
    "        Kernel Size: {self.__kernel_size}\n",
    "        Number of filters: {self.__n_filter}\n",
    "        Epochs: {self.__epochs}\n",
    "        Activation Function: {self.__activation}\n",
    "        Loss Function: {self.__loss}\"\"\")\n",
    "        \n",
    "        "
   ]
  },
  {
   "cell_type": "markdown",
   "metadata": {},
   "source": [
    "## Excuting different models for CNN\n",
    "The hyperparameters for each model will be varied and each model will analyzed based on its accuracy"
   ]
  },
  {
   "cell_type": "code",
   "execution_count": 19,
   "metadata": {},
   "outputs": [
    {
     "name": "stdout",
     "output_type": "stream",
     "text": [
      "Train on 50000 samples, validate on 10000 samples\n",
      "Epoch 1/20\n",
      "50000/50000 [==============================] - 4s 74us/sample - loss: 2.1868 - accuracy: 0.2066 - val_loss: 2.0663 - val_accuracy: 0.2643\n",
      "Epoch 2/20\n",
      "50000/50000 [==============================] - 3s 66us/sample - loss: 1.9512 - accuracy: 0.3079 - val_loss: 1.8756 - val_accuracy: 0.3347\n",
      "Epoch 3/20\n",
      "50000/50000 [==============================] - 3s 67us/sample - loss: 1.8170 - accuracy: 0.3628 - val_loss: 1.7337 - val_accuracy: 0.3903\n",
      "Epoch 4/20\n",
      "50000/50000 [==============================] - 3s 65us/sample - loss: 1.6906 - accuracy: 0.4016 - val_loss: 1.6147 - val_accuracy: 0.4270\n",
      "Epoch 5/20\n",
      "50000/50000 [==============================] - 3s 65us/sample - loss: 1.5974 - accuracy: 0.4350 - val_loss: 1.5404 - val_accuracy: 0.4464\n",
      "Epoch 6/20\n",
      "50000/50000 [==============================] - 3s 66us/sample - loss: 1.5277 - accuracy: 0.4590 - val_loss: 1.4680 - val_accuracy: 0.4843\n",
      "Epoch 7/20\n",
      "50000/50000 [==============================] - 3s 67us/sample - loss: 1.4807 - accuracy: 0.4760 - val_loss: 1.4624 - val_accuracy: 0.4847\n",
      "Epoch 8/20\n",
      "50000/50000 [==============================] - 3s 65us/sample - loss: 1.4295 - accuracy: 0.4935 - val_loss: 1.4444 - val_accuracy: 0.4862\n",
      "Epoch 9/20\n",
      "50000/50000 [==============================] - 3s 67us/sample - loss: 1.3880 - accuracy: 0.5092 - val_loss: 1.4032 - val_accuracy: 0.5016\n",
      "Epoch 10/20\n",
      "50000/50000 [==============================] - 3s 66us/sample - loss: 1.3448 - accuracy: 0.5266 - val_loss: 1.3296 - val_accuracy: 0.5400\n",
      "Epoch 11/20\n",
      "50000/50000 [==============================] - 3s 66us/sample - loss: 1.3086 - accuracy: 0.5426 - val_loss: 1.2693 - val_accuracy: 0.5482\n",
      "Epoch 12/20\n",
      "50000/50000 [==============================] - 3s 66us/sample - loss: 1.2729 - accuracy: 0.5517 - val_loss: 1.2702 - val_accuracy: 0.5497\n",
      "Epoch 13/20\n",
      "50000/50000 [==============================] - 3s 66us/sample - loss: 1.2398 - accuracy: 0.5667 - val_loss: 1.2832 - val_accuracy: 0.5526\n",
      "Epoch 14/20\n",
      "50000/50000 [==============================] - 3s 66us/sample - loss: 1.2109 - accuracy: 0.5759 - val_loss: 1.2079 - val_accuracy: 0.5693\n",
      "Epoch 15/20\n",
      "50000/50000 [==============================] - 3s 69us/sample - loss: 1.1851 - accuracy: 0.5873 - val_loss: 1.2260 - val_accuracy: 0.5646\n",
      "Epoch 16/20\n",
      "50000/50000 [==============================] - 3s 66us/sample - loss: 1.1615 - accuracy: 0.5962 - val_loss: 1.1713 - val_accuracy: 0.5870\n",
      "Epoch 17/20\n",
      "50000/50000 [==============================] - 4s 70us/sample - loss: 1.1327 - accuracy: 0.6060 - val_loss: 1.1361 - val_accuracy: 0.5995\n",
      "Epoch 18/20\n",
      "50000/50000 [==============================] - 3s 66us/sample - loss: 1.1118 - accuracy: 0.6123 - val_loss: 1.1248 - val_accuracy: 0.6079\n",
      "Epoch 19/20\n",
      "50000/50000 [==============================] - 3s 68us/sample - loss: 1.0923 - accuracy: 0.6193 - val_loss: 1.0972 - val_accuracy: 0.6152\n",
      "Epoch 20/20\n",
      "50000/50000 [==============================] - 3s 68us/sample - loss: 1.0678 - accuracy: 0.6287 - val_loss: 1.0632 - val_accuracy: 0.6278\n",
      "Model: 5-Layer\n",
      "Batch Size: 128\n",
      "Kernel Size: 3\n",
      "Number of filters: 64\n",
      "Epochs: 20\n",
      "Activation Function: relu\n",
      "Loss Function: categorical_crossentropy\n",
      "\n",
      "Test accuracy: 62.8%\n"
     ]
    }
   ],
   "source": [
    "batch_size = 128\n",
    "kernel_size = 3\n",
    "filters = 64\n",
    "epochs = 20\n",
    "loss = 'categorical_crossentropy'\n",
    "activation = 'relu'\n",
    "\n",
    "model1 = CNN(batch_size, kernel_size, filters,\n",
    "                    epochs, activation, loss, xTrain, yTrain, xTest, yTest)\n",
    "model1.model5L()\n",
    "model1.run()"
   ]
  },
  {
   "cell_type": "code",
   "execution_count": 24,
   "metadata": {},
   "outputs": [
    {
     "data": {
      "image/png": "[encoded data removed]",
      "text/plain": [
       "<Figure size 432x288 with 1 Axes>"
      ]
     },
     "metadata": {
      "needs_background": "light"
     },
     "output_type": "display_data"
    },
    {
     "data": {
      "image/png": "[encoded data removed]",
      "text/plain": [
       "<Figure size 432x288 with 1 Axes>"
      ]
     },
     "metadata": {
      "needs_background": "light"
     },
     "output_type": "display_data"
    },
    {
     "name": "stdout",
     "output_type": "stream",
     "text": [
      "Model: \"5-Layer\"\n",
      "_________________________________________________________________\n",
      "Layer (type)                 Output Shape              Param #   \n",
      "=================================================================\n",
      "input_2 (InputLayer)         [(None, 32, 32, 3)]       0         \n",
      "_________________________________________________________________\n",
      "conv2d_3 (Conv2D)            (None, 32, 32, 64)        1792      \n",
      "_________________________________________________________________\n",
      "max_pooling2d_2 (MaxPooling2 (None, 16, 16, 64)        0         \n",
      "_________________________________________________________________\n",
      "conv2d_4 (Conv2D)            (None, 16, 16, 64)        36928     \n",
      "_________________________________________________________________\n",
      "max_pooling2d_3 (MaxPooling2 (None, 8, 8, 64)          0         \n",
      "_________________________________________________________________\n",
      "conv2d_5 (Conv2D)            (None, 8, 8, 64)          36928     \n",
      "_________________________________________________________________\n",
      "flatten_1 (Flatten)          (None, 4096)              0         \n",
      "_________________________________________________________________\n",
      "dense_1 (Dense)              (None, 10)                40970     \n",
      "=================================================================\n",
      "Total params: 116,618\n",
      "Trainable params: 116,618\n",
      "Non-trainable params: 0\n",
      "_________________________________________________________________\n"
     ]
    }
   ],
   "source": [
    "model1.plotCrossEntrophy()\n",
    "model1.plotAccuracy()\n",
    "model1.printModelSummary()\n",
    "model1.printModelPlot()"
   ]
  }
 ],
 "metadata": {
  "kernelspec": {
   "display_name": "Python (COE197Z)",
   "language": "python",
   "name": "coe197z"
  },
  "language_info": {
   "codemirror_mode": {
    "name": "ipython",
    "version": 3
   },
   "file_extension": ".py",
   "mimetype": "text/x-python",
   "name": "python",
   "nbconvert_exporter": "python",
   "pygments_lexer": "ipython3",
   "version": "3.7.9"
  }
 },
 "nbformat": 4,
 "nbformat_minor": 4
}
